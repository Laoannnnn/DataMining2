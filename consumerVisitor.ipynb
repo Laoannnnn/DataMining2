{
 "cells": [
  {
   "cell_type": "markdown",
   "metadata": {},
   "source": [
    "* Github: [https://github.com/Laoannnnn/DataMining2](https://github.com/Laoannnnn/DataMining2)  \n",
    "* Dataset: [Consumer & Visitor Insights For Neighborhoods](https://www.kaggle.com/safegraph/visit-patterns-by-census-block-group)"
   ]
  },
  {
   "cell_type": "code",
   "execution_count": 1,
   "metadata": {},
   "outputs": [],
   "source": [
    "import numpy as np\n",
    "import pandas as pd\n",
    "import matplotlib.pyplot as plt"
   ]
  },
  {
   "cell_type": "code",
   "execution_count": 2,
   "metadata": {},
   "outputs": [],
   "source": [
    "file_path = \"../Dataset/visit-patterns-by-census-block-group/cbg_patterns.csv\"\n",
    "df = pd.read_csv(file_path)\n",
    "# df.head()"
   ]
  },
  {
   "cell_type": "markdown",
   "metadata": {},
   "source": [
    "# 数据处理\n",
    "对数据集进行处理，转换成适合进行关联规则挖掘的形式。  \n",
    "通过对数据集进行观察可以发现，**related_same_day_brand**和**related_same_month_brand**两个属性的形式适合进行关联规则挖掘。则分别提取两列数据，并依次命名为**day**和**month**："
   ]
  },
  {
   "cell_type": "code",
   "execution_count": 3,
   "metadata": {},
   "outputs": [],
   "source": [
    "day = pd.DataFrame(df, columns=['related_same_day_brand'])\n",
    "month = pd.DataFrame(df, columns=['related_same_month_brand'])"
   ]
  },
  {
   "cell_type": "markdown",
   "metadata": {},
   "source": [
    "这两个属性中均存在无效值：`[]`，这里选择将其删除，并将DataFrame转为**list**方便后续计算："
   ]
  },
  {
   "cell_type": "code",
   "execution_count": 4,
   "metadata": {},
   "outputs": [],
   "source": [
    "day1 = day.drop(day[day.related_same_day_brand=='[]'].index)\n",
    "day1.reset_index(drop=True, inplace=True)\n",
    "# to list\n",
    "day_list = []\n",
    "for i in day1.related_same_day_brand:\n",
    "    brand = []\n",
    "    i = i.strip('[]')\n",
    "    i = i.split(',')  # to list\n",
    "    for j in i:\n",
    "        brand.append(j.strip('\"\"').strip(' '))\n",
    "    day_list.append(brand)"
   ]
  },
  {
   "cell_type": "code",
   "execution_count": 5,
   "metadata": {},
   "outputs": [],
   "source": [
    "month1 = month.drop(month[month.related_same_month_brand=='[]'].index)\n",
    "month1.reset_index(drop=True, inplace=True)\n",
    "month_list = []\n",
    "for i in month1.related_same_month_brand:\n",
    "    brand = []\n",
    "    i = i.strip('[]')\n",
    "    i = i.split(',')  # to list\n",
    "    for j in i:\n",
    "        brand.append(j.strip('\"\"').strip(' '))\n",
    "    month_list.append(brand)"
   ]
  },
  {
   "cell_type": "markdown",
   "metadata": {},
   "source": [
    "# 频繁模式挖掘\n",
    "采用**Apriori算法**。  \n",
    "由于数据量较多，根据实际情况**min_sup**的设置如下：  \n",
    "\n",
    "| dataset | minSupport |\n",
    "| :--: | :--: |\n",
    "| related_same_day_brand | 5% |\n",
    "| related_same_month_brand | 20% |"
   ]
  },
  {
   "cell_type": "code",
   "execution_count": 7,
   "metadata": {},
   "outputs": [],
   "source": [
    "def createC1(dataset):  # 产生单个item的集合\n",
    "    C1 = []\n",
    "    for transaction in dataset:\n",
    "        for item in transaction:\n",
    "            if not [item] in C1:\n",
    "                C1.append([item])\n",
    "    C1.sort()\n",
    "    return map(frozenset, C1)  # 给C1.list每个元素执行函数\n",
    "\n",
    "def scanD(D, ck, minSupport):  # dataset,a list of candidate set,最小支持率 支持度计数\n",
    "    ssCnt = {}\n",
    "    # temp_D = list(D)\n",
    "    numItem = float(len(D))\n",
    "    # print('numItem:', numItem)\n",
    "    temp_ck = list(ck)\n",
    "    for tid in D:\n",
    "        for can in temp_ck:\n",
    "            if can.issubset(tid):\n",
    "                if can not in ssCnt:\n",
    "                    ssCnt[can] = 1\n",
    "                else:\n",
    "                    ssCnt[can] += 1\n",
    "    retList = []\n",
    "    supportData = {}\n",
    "    for key in ssCnt:\n",
    "        if numItem == 0:\n",
    "            continue\n",
    "        support = ssCnt[key] / numItem  # 支持度\n",
    "        if support >= minSupport:            \n",
    "            retList.insert(0, key)\n",
    "            supportData[key] = support\n",
    "    return retList, supportData  # 返回频繁k项集，相应支持度\n",
    "\n",
    "def aprioriGen(Lk, k):  # create ck(k项集)\n",
    "    retList = []\n",
    "    lenLk = len(Lk)\n",
    "    for i in range(lenLk):\n",
    "        for j in range(i + 1, lenLk):\n",
    "            L1 = list(Lk[i])[:k - 2]\n",
    "            L2 = list(Lk[j])[:k - 2]\n",
    "            L1.sort()\n",
    "            L2.sort()  # 排序\n",
    "            if L1 == L2:  # 比较i,j前k-1个项若相同，和合并它俩\n",
    "                retList.append(Lk[i] | Lk[j])  # 加入新的k项集 | stanf for union\n",
    "    return retList # ck\n",
    "\n",
    "def apriori(datset, minSupport):\n",
    "    C1 = createC1(datset)  # map\n",
    "    D = datset\n",
    "    L1, supportData = scanD(D, C1, minSupport)  # 利用k项集生成频繁k项集, 即满足最小支持率的k项集\n",
    "    L = [L1]  # L保存所有频繁项集\n",
    "\n",
    "    k = 2\n",
    "    while (len(L[k - 2]) > 0):  # 直到频繁k-1项集为空\n",
    "        Ck = aprioriGen(L[k - 2], k)  # 利用频繁k-1项集 生成k项集\n",
    "        Lk, supK = scanD(D, Ck, minSupport)\n",
    "        supportData.update(supK)  # 保存新的频繁项集与其支持度\n",
    "        L.append(Lk)  # 保存频繁k项集\n",
    "        k += 1\n",
    "    return L, supportData  # 返回所有频繁项集，与其相应的支持率\n",
    "\n",
    "# dataset = [['Beer', 'Nuts', 'Diaper'],['Beer', 'Coffee', 'Diaper'],\n",
    "#            ['Beer', 'Diaper', 'Eggs'],['Nuts', 'Eggs', 'Milk'],['Nuts', 'Coffee', 'Diaper', 'Eggs', 'Milk']]"
   ]
  },
  {
   "cell_type": "markdown",
   "metadata": {},
   "source": [
    "## related_same_day_brand"
   ]
  },
  {
   "cell_type": "code",
   "execution_count": 14,
   "metadata": {},
   "outputs": [
    {
     "name": "stdout",
     "output_type": "stream",
     "text": [
      "频繁 1 项集\n",
      "[frozenset({\"Dunkin' Donuts\"}), frozenset({'7-Eleven US'}), frozenset({'Sonic'}), frozenset({'QuikTrip'}), frozenset({'starbucks'}), frozenset({'Dollar General'}), frozenset({'Shell Oil'}), frozenset({'walmart'}), frozenset({'mcdonalds'})]\n",
      "频繁 2 项集\n",
      "[frozenset({'Dollar General', 'walmart'}), frozenset({'mcdonalds', 'walmart'})]\n"
     ]
    }
   ],
   "source": [
    "minSupport = 0.05\n",
    "day_L, day_suppData = apriori(day_list,minSupport)\n",
    "for i in range(len(day_L)-1):\n",
    "    print('频繁', i+1, '项集')\n",
    "    print(day_L[i])\n",
    "# print(L)"
   ]
  },
  {
   "cell_type": "markdown",
   "metadata": {},
   "source": [
    "## related_same_month_brand"
   ]
  },
  {
   "cell_type": "code",
   "execution_count": 15,
   "metadata": {
    "scrolled": false
   },
   "outputs": [
    {
     "name": "stdout",
     "output_type": "stream",
     "text": [
      "频繁 1 项集\n",
      "[frozenset({'BP'}), frozenset({\"Dunkin' Donuts\"}), frozenset({'7-Eleven US'}), frozenset({'Target'}), frozenset({'Walgreens'}), frozenset({'starbucks'}), frozenset({'Chevron'}), frozenset({'walmart'}), frozenset({'mcdonalds'}), frozenset({'Shell Oil'}), frozenset({'SUBWAY'}), frozenset({'Dollar General'}), frozenset({'Chick-fil-A'})]\n",
      "频繁 2 项集\n",
      "[frozenset({'mcdonalds', 'BP'}), frozenset({'mcdonalds', \"Dunkin' Donuts\"}), frozenset({'mcdonalds', 'Target'}), frozenset({'mcdonalds', 'Walgreens'}), frozenset({'starbucks', 'SUBWAY'}), frozenset({'starbucks', 'mcdonalds'}), frozenset({'starbucks', 'walmart'}), frozenset({'Chevron', 'mcdonalds'}), frozenset({'mcdonalds', 'Chick-fil-A'}), frozenset({'mcdonalds', 'Dollar General'}), frozenset({'mcdonalds', 'SUBWAY'}), frozenset({'mcdonalds', 'Shell Oil'}), frozenset({'Chick-fil-A', 'walmart'}), frozenset({'Dollar General', 'walmart'}), frozenset({'SUBWAY', 'walmart'}), frozenset({'Shell Oil', 'walmart'}), frozenset({'mcdonalds', 'walmart'})]\n",
      "频繁 3 项集\n",
      "[frozenset({'starbucks', 'mcdonalds', 'walmart'}), frozenset({'mcdonalds', 'Shell Oil', 'walmart'}), frozenset({'mcdonalds', 'SUBWAY', 'walmart'}), frozenset({'mcdonalds', 'Dollar General', 'walmart'}), frozenset({'walmart', 'mcdonalds', 'Chick-fil-A'})]\n"
     ]
    }
   ],
   "source": [
    "minSupport = 0.2\n",
    "month_L, month_suppData = apriori(month_list,minSupport)\n",
    "for i in range(len(month_L)-1):\n",
    "    print('频繁', i+1, '项集')\n",
    "    print(month_L[i])"
   ]
  },
  {
   "cell_type": "markdown",
   "metadata": {},
   "source": [
    "# 导出关联规则，计算其支持度和置信度\n",
    "由于数据量较多，根据实际情况**min_sup**的设置如下：  \n",
    "\n",
    "| dataset | minConf |\n",
    "| :--: | :--: |\n",
    "| related_same_day_brand | 20% |\n",
    "| related_same_month_brand | 50% |\n",
    "\n",
    "## 支持度\n",
    "支持度在上一部分找出频繁模式时已计算:"
   ]
  },
  {
   "cell_type": "code",
   "execution_count": 46,
   "metadata": {},
   "outputs": [
    {
     "name": "stdout",
     "output_type": "stream",
     "text": [
      "related_same_day_brand:\n",
      "frozenset({'mcdonalds'}) : 0.2508572138255766\n",
      "frozenset({'walmart'}) : 0.23403692364182233\n",
      "frozenset({'Shell Oil'}) : 0.06819912199705172\n",
      "frozenset({'Dollar General'}) : 0.09602954755309326\n",
      "frozenset({'starbucks'}) : 0.07358809458240863\n",
      "frozenset({'QuikTrip'}) : 0.053733132461810114\n",
      "frozenset({'Sonic'}) : 0.055061476405695677\n",
      "frozenset({'7-Eleven US'}) : 0.05002888878089345\n",
      "frozenset({\"Dunkin' Donuts\"}) : 0.11324402110230948\n",
      "frozenset({'mcdonalds', 'walmart'}) : 0.08685533470487546\n",
      "frozenset({'Dollar General', 'walmart'}) : 0.0519566074311664\n",
      "\n",
      "related_same_month_brand:\n",
      "frozenset({'Chick-fil-A'}) : 0.21607149417686175\n",
      "frozenset({'Dollar General'}) : 0.2802454168044381\n",
      "frozenset({'SUBWAY'}) : 0.4816304787097248\n",
      "frozenset({'Shell Oil'}) : 0.3581138175539145\n",
      "frozenset({'mcdonalds'}) : 0.9480418090304567\n",
      "frozenset({'walmart'}) : 0.7547439288732135\n",
      "frozenset({'Chevron'}) : 0.21529078952202504\n",
      "frozenset({'starbucks'}) : 0.41178037400345346\n",
      "frozenset({'Walgreens'}) : 0.23168099489327307\n",
      "frozenset({'Target'}) : 0.2491458172600022\n",
      "frozenset({'7-Eleven US'}) : 0.20469157573753627\n",
      "frozenset({\"Dunkin' Donuts\"}) : 0.23778886072228958\n",
      "frozenset({'BP'}) : 0.21038153495719902\n",
      "frozenset({'mcdonalds', 'walmart'}) : 0.7407142069877659\n",
      "frozenset({'Shell Oil', 'walmart'}) : 0.30347367647599105\n",
      "frozenset({'SUBWAY', 'walmart'}) : 0.3606809581542305\n",
      "frozenset({'Dollar General', 'walmart'}) : 0.27233733788897463\n",
      "frozenset({'Chick-fil-A', 'walmart'}) : 0.20571567654946912\n",
      "frozenset({'mcdonalds', 'Shell Oil'}) : 0.34609096586942945\n",
      "frozenset({'mcdonalds', 'SUBWAY'}) : 0.47428267019361475\n",
      "frozenset({'mcdonalds', 'Dollar General'}) : 0.2741513281163893\n",
      "frozenset({'mcdonalds', 'Chick-fil-A'}) : 0.21132756530364818\n",
      "frozenset({'Chevron', 'mcdonalds'}) : 0.2013621000036739\n",
      "frozenset({'starbucks', 'walmart'}) : 0.23754546456519343\n",
      "frozenset({'starbucks', 'mcdonalds'}) : 0.3933190051067269\n",
      "frozenset({'starbucks', 'SUBWAY'}) : 0.20422315294463425\n",
      "frozenset({'mcdonalds', 'Walgreens'}) : 0.2264686432271575\n",
      "frozenset({'mcdonalds', 'Target'}) : 0.2385052720526103\n",
      "frozenset({'mcdonalds', \"Dunkin' Donuts\"}) : 0.22588541092619127\n",
      "frozenset({'mcdonalds', 'BP'}) : 0.20739189536720673\n",
      "frozenset({'walmart', 'mcdonalds', 'Chick-fil-A'}) : 0.20256530364818692\n",
      "frozenset({'mcdonalds', 'Dollar General', 'walmart'}) : 0.2677174032844704\n",
      "frozenset({'mcdonalds', 'SUBWAY', 'walmart'}) : 0.35842609941584924\n",
      "frozenset({'mcdonalds', 'Shell Oil', 'walmart'}) : 0.2984587971637459\n",
      "frozenset({'starbucks', 'mcdonalds', 'walmart'}) : 0.23383941364488042\n"
     ]
    }
   ],
   "source": [
    "print(\"related_same_day_brand:\")\n",
    "for k, v in day_suppData.items():\n",
    "    print(k, ':', v)\n",
    "print(\"\\nrelated_same_month_brand:\")\n",
    "for k, v in month_suppData.items():\n",
    "    print(k, ':', v)"
   ]
  },
  {
   "cell_type": "markdown",
   "metadata": {},
   "source": [
    "## 置信度 & 关联规则\n",
    "计算出置信度的同时，将关联规则导入.txt文件中。"
   ]
  },
  {
   "cell_type": "code",
   "execution_count": 8,
   "metadata": {},
   "outputs": [],
   "source": [
    "def calcConf(freqSet, H, supportData, brl, minConf):\n",
    "    prunedH = []\n",
    "    lift = []\n",
    "    file = open(\"generate_rules.txt\",\"a\",encoding = \"utf-8\")\n",
    "    for conseq in H:  # 后件中的每个元素\n",
    "        conf = supportData[freqSet] / supportData[freqSet - conseq]\n",
    "        if conf >= minConf:\n",
    "            file.write(str(freqSet - conseq)+\"-->\"+str(conseq)+\" support:\"+str(supportData[freqSet])+\" conf:\"+str(conf)+'\\n')\n",
    "            brl.append((freqSet - conseq, conseq, supportData[freqSet], conf))  # 添加入规则集中\n",
    "            prunedH.append(conseq)  # 添加入被修剪过的H中\n",
    "    file.close()\n",
    "    return prunedH\n",
    "\n",
    "def rulesFromConseq(freqSet, H, supportData, brl, minConf):\n",
    "    m = len(H[0])  # H是一系列后件长度相同的规则，所以取H0的长度即可\n",
    "    if (len(freqSet) > m + 1):\n",
    "        Hmp1 = aprioriGen(H, m + 1)\n",
    "        Hmp1 = calcConf(freqSet, Hmp1, supportData, brl, minConf)\n",
    "        if (len(Hmp1) > 1):\n",
    "            rulesFromConseq(freqSet, Hmp1, supportData, brl, minConf)\n",
    "\n",
    "def generateRules(L, supportData, minConf):\n",
    "    bigRuleList = []  # 存储规则\n",
    "    for i in range(1, len(L)):\n",
    "        for freqSet in L[i]:\n",
    "            H1 = [frozenset([item]) for item in freqSet]\n",
    "            if (i > 1):\n",
    "                rulesFromConseq(freqSet, H1, supportData, bigRuleList, minConf)\n",
    "            else:\n",
    "                calcConf(freqSet, H1, supportData, bigRuleList, minConf)\n",
    "    return bigRuleList"
   ]
  },
  {
   "cell_type": "markdown",
   "metadata": {},
   "source": [
    "### related_same_day_brand"
   ]
  },
  {
   "cell_type": "code",
   "execution_count": 37,
   "metadata": {
    "scrolled": false
   },
   "outputs": [
    {
     "name": "stdout",
     "output_type": "stream",
     "text": [
      "(frozenset({'walmart'}), frozenset({'Dollar General'}), 0.0519566074311664, 0.22200175349545473)\n",
      "(frozenset({'Dollar General'}), frozenset({'walmart'}), 0.0519566074311664, 0.5410481331533963)\n",
      "(frozenset({'walmart'}), frozenset({'mcdonalds'}), 0.08685533470487546, 0.37111808407549257)\n",
      "(frozenset({'mcdonalds'}), frozenset({'walmart'}), 0.08685533470487546, 0.3462341520115375)\n"
     ]
    }
   ],
   "source": [
    "day_rules = generateRules(day_L, day_suppData, minConf=0.2)\n",
    "for item in day_rules:\n",
    "    print(item)"
   ]
  },
  {
   "cell_type": "markdown",
   "metadata": {},
   "source": [
    "### related_same_month_brand"
   ]
  },
  {
   "cell_type": "code",
   "execution_count": 36,
   "metadata": {
    "scrolled": false
   },
   "outputs": [
    {
     "name": "stdout",
     "output_type": "stream",
     "text": [
      "(frozenset({'BP'}), frozenset({'mcdonalds'}), 0.20739189536720673, 0.9857894392176552)\n",
      "(frozenset({\"Dunkin' Donuts\"}), frozenset({'mcdonalds'}), 0.22588541092619127, 0.9499410958110431)\n",
      "(frozenset({'Target'}), frozenset({'mcdonalds'}), 0.2385052720526103, 0.957291897072919)\n",
      "(frozenset({'Walgreens'}), frozenset({'mcdonalds'}), 0.2264686432271575, 0.9775020317548416)\n",
      "(frozenset({'starbucks'}), frozenset({'mcdonalds'}), 0.3933190051067269, 0.955166952914148)\n",
      "(frozenset({'starbucks'}), frozenset({'walmart'}), 0.23754546456519343, 0.5768741775031785)\n",
      "(frozenset({'Chevron'}), frozenset({'mcdonalds'}), 0.2013621000036739, 0.9353029010238909)\n",
      "(frozenset({'Chick-fil-A'}), frozenset({'mcdonalds'}), 0.21132756530364818, 0.9780446333687567)\n",
      "(frozenset({'Dollar General'}), frozenset({'mcdonalds'}), 0.2741513281163893, 0.9782544572627163)\n",
      "(frozenset({'SUBWAY'}), frozenset({'mcdonalds'}), 0.47428267019361475, 0.9847438880201381)\n",
      "(frozenset({'mcdonalds'}), frozenset({'SUBWAY'}), 0.47428267019361475, 0.5002761119561321)\n",
      "(frozenset({'Shell Oil'}), frozenset({'mcdonalds'}), 0.34609096586942945, 0.9664272890484741)\n",
      "(frozenset({'Chick-fil-A'}), frozenset({'walmart'}), 0.20571567654946912, 0.9520722635494155)\n",
      "(frozenset({'Dollar General'}), frozenset({'walmart'}), 0.27233733788897463, 0.9717815941269009)\n",
      "(frozenset({'SUBWAY'}), frozenset({'walmart'}), 0.3606809581542305, 0.7488748617414852)\n",
      "(frozenset({'Shell Oil'}), frozenset({'walmart'}), 0.30347367647599105, 0.8474224160041037)\n",
      "(frozenset({'walmart'}), frozenset({'mcdonalds'}), 0.7407142069877659, 0.9814112822260218)\n",
      "(frozenset({'mcdonalds'}), frozenset({'walmart'}), 0.7407142069877659, 0.7813096426045593)\n",
      "(frozenset({'starbucks'}), frozenset({'mcdonalds', 'walmart'}), 0.23383941364488042, 0.5678741105881828)\n",
      "(frozenset({'Shell Oil'}), frozenset({'mcdonalds', 'walmart'}), 0.2984587971637459, 0.8334188253398307)\n",
      "(frozenset({'SUBWAY'}), frozenset({'mcdonalds', 'walmart'}), 0.35842609941584924, 0.7441931423776651)\n",
      "(frozenset({'Dollar General'}), frozenset({'mcdonalds', 'walmart'}), 0.2677174032844704, 0.9552962768746722)\n",
      "(frozenset({'Chick-fil-A'}), frozenset({'mcdonalds', 'walmart'}), 0.20256530364818692, 0.9374920297555791)\n"
     ]
    }
   ],
   "source": [
    "month_rules = generateRules(month_L, month_suppData, minConf=0.5)\n",
    "for item in month_rules:\n",
    "    print(item)"
   ]
  },
  {
   "cell_type": "markdown",
   "metadata": {},
   "source": [
    "# 对规则进行评价\n",
    "可使用Lift、卡方和其它教材中提及的指标, 至少2种。\n",
    "## Lift(提升度)\n",
    "$$Lift(A,B) = \\frac{s(A \\cup B)}{s(A)\\times s(B)}=\\frac{c(A \\rightarrow B)}{s(B)}$$\n",
    "提升度小于1为负相关；提升度大于1为正相关；提升度等于1为不相关"
   ]
  },
  {
   "cell_type": "code",
   "execution_count": 31,
   "metadata": {},
   "outputs": [],
   "source": [
    "def lift_eval(rules, suppData): # lift evaluation\n",
    "    # lift(A, B) = P(A交B) / (P(A) * P(B)) = P(A) * P(B | A) / (P(A) * P(B)) = P(B | A) / P(B) = confidence(A— > B) / support(B) = confidence(B— > A) / support(A)\n",
    "    lift = []\n",
    "    for rule in rules:\n",
    "        freqSet_conseq = rule[0]\n",
    "        conseq = rule[1]\n",
    "        lift_val = float(rule[3]) / float(suppData[rule[1]])\n",
    "        lift.append([freqSet_conseq, conseq, lift_val])\n",
    "    return lift"
   ]
  },
  {
   "cell_type": "markdown",
   "metadata": {},
   "source": [
    "### related_same_day_brand"
   ]
  },
  {
   "cell_type": "code",
   "execution_count": 34,
   "metadata": {
    "scrolled": false
   },
   "outputs": [
    {
     "name": "stdout",
     "output_type": "stream",
     "text": [
      "[frozenset({'walmart'}), frozenset({'Dollar General'}), 2.3118067214959375]\n",
      "[frozenset({'Dollar General'}), frozenset({'walmart'}), 2.3118067214959375]\n",
      "[frozenset({'walmart'}), frozenset({'mcdonalds'}), 1.4793996888346792]\n",
      "[frozenset({'mcdonalds'}), frozenset({'walmart'}), 1.4793996888346792]\n"
     ]
    }
   ],
   "source": [
    "day_lifts = lift_eval(day_rules, day_suppData)\n",
    "for item in day_lifts:\n",
    "    print(item)"
   ]
  },
  {
   "cell_type": "markdown",
   "metadata": {},
   "source": [
    "### related_same_month_brand"
   ]
  },
  {
   "cell_type": "code",
   "execution_count": 35,
   "metadata": {
    "scrolled": false
   },
   "outputs": [
    {
     "name": "stdout",
     "output_type": "stream",
     "text": [
      "[frozenset({'BP'}), frozenset({'mcdonalds'}), 1.0398164193051804]\n",
      "[frozenset({\"Dunkin' Donuts\"}), frozenset({'mcdonalds'}), 1.0020033787144143]\n",
      "[frozenset({'Target'}), frozenset({'mcdonalds'}), 1.009757046529332]\n",
      "[frozenset({'Walgreens'}), frozenset({'mcdonalds'}), 1.03107481383602]\n",
      "[frozenset({'starbucks'}), frozenset({'mcdonalds'}), 1.007515643103312]\n",
      "[frozenset({'starbucks'}), frozenset({'walmart'}), 0.7643309941749599]\n",
      "[frozenset({'Chevron'}), frozenset({'mcdonalds'}), 0.9865629259329886]\n",
      "[frozenset({'Chick-fil-A'}), frozenset({'mcdonalds'}), 1.0316471531661493]\n",
      "[frozenset({'Dollar General'}), frozenset({'mcdonalds'}), 1.0318684766267403]\n",
      "[frozenset({'SUBWAY'}), frozenset({'mcdonalds'}), 1.0387135658365279]\n",
      "[frozenset({'mcdonalds'}), frozenset({'SUBWAY'}), 1.0387135658365276]\n",
      "[frozenset({'Shell Oil'}), frozenset({'mcdonalds'}), 1.019393110981909]\n",
      "[frozenset({'Chick-fil-A'}), frozenset({'walmart'}), 1.2614507081505129]\n",
      "[frozenset({'Dollar General'}), frozenset({'walmart'}), 1.2875646387480206]\n",
      "[frozenset({'SUBWAY'}), frozenset({'walmart'}), 0.9922237637068635]\n",
      "[frozenset({'Shell Oil'}), frozenset({'walmart'}), 1.1227946109738882]\n",
      "[frozenset({'walmart'}), frozenset({'mcdonalds'}), 1.0351983139115895]\n",
      "[frozenset({'mcdonalds'}), frozenset({'walmart'}), 1.0351983139115895]\n",
      "[frozenset({'starbucks'}), frozenset({'mcdonalds', 'walmart'}), 0.7666575114004289]\n",
      "[frozenset({'Shell Oil'}), frozenset({'mcdonalds', 'walmart'}), 1.1251557179240061]\n",
      "[frozenset({'SUBWAY'}), frozenset({'mcdonalds', 'walmart'}), 1.0046967310159296]\n",
      "[frozenset({'Dollar General'}), frozenset({'mcdonalds', 'walmart'}), 1.2896961714283015]\n",
      "[frozenset({'Chick-fil-A'}), frozenset({'mcdonalds', 'walmart'}), 1.2656595768130896]\n"
     ]
    }
   ],
   "source": [
    "month_lifts = lift_eval(month_rules, month_suppData)\n",
    "for item in month_lifts:\n",
    "    print(item)"
   ]
  },
  {
   "cell_type": "markdown",
   "metadata": {},
   "source": [
    "## Cosine(余弦度量)\n",
    "$$Cosine=\\frac{s(A \\cup B)}{\\sqrt{s(A) \\times s(B)}}=\\frac{s(A \\cup B) \\times s(A)}{s(A)\\times\\sqrt{s(A) \\times s(B)}}=c(A \\rightarrow B)\\times\\frac{s(A)}{\\sqrt{s(A) \\times s(B)}}$$\n",
    "取值范围是\\[0,1\\]，0表示不相关，1表示相关，0.5表示中性"
   ]
  },
  {
   "cell_type": "code",
   "execution_count": 39,
   "metadata": {},
   "outputs": [],
   "source": [
    "def cos_eval(rules, suppData): # allconf evaluation\n",
    "    cos = []\n",
    "    for rule in rules:\n",
    "        freqSet_conseq = rule[0]\n",
    "        conseq = rule[1]\n",
    "        cos_val = (float(rule[3])*float(suppData[rule[0]])) / pow(float(suppData[rule[0]])*float(suppData[rule[1]]), 1/2)\n",
    "        cos.append([freqSet_conseq, conseq, cos_val])\n",
    "    return cos"
   ]
  },
  {
   "cell_type": "markdown",
   "metadata": {},
   "source": [
    "### related_same_day_brand"
   ]
  },
  {
   "cell_type": "code",
   "execution_count": 40,
   "metadata": {},
   "outputs": [
    {
     "name": "stdout",
     "output_type": "stream",
     "text": [
      "[frozenset({'walmart'}), frozenset({'Dollar General'}), 0.3465741396663869]\n",
      "[frozenset({'Dollar General'}), frozenset({'walmart'}), 0.3465741396663869]\n",
      "[frozenset({'walmart'}), frozenset({'mcdonalds'}), 0.35846025600619197]\n",
      "[frozenset({'mcdonalds'}), frozenset({'walmart'}), 0.35846025600619197]\n"
     ]
    }
   ],
   "source": [
    "day_cos = cos_eval(day_rules, day_suppData)\n",
    "for item in day_cos:\n",
    "    print(item)"
   ]
  },
  {
   "cell_type": "markdown",
   "metadata": {},
   "source": [
    "### related_same_month_brand"
   ]
  },
  {
   "cell_type": "code",
   "execution_count": 41,
   "metadata": {
    "scrolled": false
   },
   "outputs": [
    {
     "name": "stdout",
     "output_type": "stream",
     "text": [
      "[frozenset({'BP'}), frozenset({'mcdonalds'}), 0.4643807683718648]\n",
      "[frozenset({\"Dunkin' Donuts\"}), frozenset({'mcdonalds'}), 0.47574987645856254]\n",
      "[frozenset({'Target'}), frozenset({'mcdonalds'}), 0.4907467565756483]\n",
      "[frozenset({'Walgreens'}), frozenset({'mcdonalds'}), 0.48322470358533764]\n",
      "[frozenset({'starbucks'}), frozenset({'mcdonalds'}), 0.629503812835839]\n",
      "[frozenset({'starbucks'}), frozenset({'walmart'}), 0.4261025241568829]\n",
      "[frozenset({'Chevron'}), frozenset({'mcdonalds'}), 0.4457088540197912]\n",
      "[frozenset({'Chick-fil-A'}), frozenset({'mcdonalds'}), 0.46692127937270345]\n",
      "[frozenset({'Dollar General'}), frozenset({'mcdonalds'}), 0.5318722716110102]\n",
      "[frozenset({'SUBWAY'}), frozenset({'mcdonalds'}), 0.701885919200036]\n",
      "[frozenset({'mcdonalds'}), frozenset({'SUBWAY'}), 0.701885919200036]\n",
      "[frozenset({'Shell Oil'}), frozenset({'mcdonalds'}), 0.5939720080781343]\n",
      "[frozenset({'Chick-fil-A'}), frozenset({'walmart'}), 0.5094116075051586]\n",
      "[frozenset({'Dollar General'}), frozenset({'walmart'}), 0.5921587000767744]\n",
      "[frozenset({'SUBWAY'}), frozenset({'walmart'}), 0.5982275635551979]\n",
      "[frozenset({'Shell Oil'}), frozenset({'walmart'}), 0.5837281974683731]\n",
      "[frozenset({'walmart'}), frozenset({'mcdonalds'}), 0.8756632333061012]\n",
      "[frozenset({'mcdonalds'}), frozenset({'walmart'}), 0.8756632333061012]\n",
      "[frozenset({'starbucks'}), frozenset({'mcdonalds', 'walmart'}), 0.423408482357545]\n",
      "[frozenset({'Shell Oil'}), frozenset({'mcdonalds', 'walmart'}), 0.5794934185937834]\n",
      "[frozenset({'SUBWAY'}), frozenset({'mcdonalds', 'walmart'}), 0.6000912683866466]\n",
      "[frozenset({'Dollar General'}), frozenset({'mcdonalds', 'walmart'}), 0.5876002978562113]\n",
      "[frozenset({'Chick-fil-A'}), frozenset({'mcdonalds', 'walmart'}), 0.5063385394105205]\n"
     ]
    }
   ],
   "source": [
    "month_cos = cos_eval(month_rules, month_suppData)\n",
    "for item in month_cos:\n",
    "    print(item)"
   ]
  },
  {
   "cell_type": "markdown",
   "metadata": {},
   "source": [
    "# 可视化\n",
    "## 散点图\n",
    "### Support & Confidence"
   ]
  },
  {
   "cell_type": "code",
   "execution_count": 52,
   "metadata": {},
   "outputs": [],
   "source": [
    "def draw(rules):\n",
    "    x = []\n",
    "    y = []\n",
    "    for rule in rules:\n",
    "        x.append(rule[2])  # sup\n",
    "        y.append(rule[3])  # conf\n",
    "    return x, y"
   ]
  },
  {
   "cell_type": "code",
   "execution_count": 57,
   "metadata": {},
   "outputs": [
    {
     "data": {
      "image/png": "[encoded data removed]",
      "text/plain": [
       "<Figure size 432x288 with 1 Axes>"
      ]
     },
     "metadata": {
      "needs_background": "light"
     },
     "output_type": "display_data"
    }
   ],
   "source": [
    "x, y = draw(day_rules)\n",
    "plt.xlabel('support') \n",
    "plt.ylabel('confidence') \n",
    "plt.scatter(x, y)\n",
    "plt.show()"
   ]
  },
  {
   "cell_type": "code",
   "execution_count": 56,
   "metadata": {},
   "outputs": [
    {
     "data": {
      "image/png": "[encoded data removed]",
      "text/plain": [
       "<Figure size 432x288 with 1 Axes>"
      ]
     },
     "metadata": {
      "needs_background": "light"
     },
     "output_type": "display_data"
    }
   ],
   "source": [
    "x, y = draw(month_rules)\n",
    "plt.xlabel('support') \n",
    "plt.ylabel('confidence')  \n",
    "plt.scatter(x, y)\n",
    "plt.show()"
   ]
  },
  {
   "cell_type": "markdown",
   "metadata": {},
   "source": [
    "### Lift & Support"
   ]
  },
  {
   "cell_type": "code",
   "execution_count": 60,
   "metadata": {},
   "outputs": [],
   "source": [
    "def draw(lifts, rules):\n",
    "    x = []\n",
    "    y = []\n",
    "    for lift in lifts:\n",
    "        x.append(lift[2])\n",
    "    for rule in rules:\n",
    "        y.append(rule[2])  # sup\n",
    "    return x, y"
   ]
  },
  {
   "cell_type": "code",
   "execution_count": 63,
   "metadata": {},
   "outputs": [
    {
     "data": {
      "image/png": "[encoded data removed]",
      "text/plain": [
       "<Figure size 432x288 with 1 Axes>"
      ]
     },
     "metadata": {
      "needs_background": "light"
     },
     "output_type": "display_data"
    }
   ],
   "source": [
    "x, y = draw(day_lifts, day_rules)\n",
    "plt.title('related_same_day_bradnd')\n",
    "plt.xlabel('lift') \n",
    "plt.ylabel('support')  \n",
    "plt.scatter(x, y)\n",
    "plt.show()"
   ]
  },
  {
   "cell_type": "code",
   "execution_count": 62,
   "metadata": {
    "scrolled": true
   },
   "outputs": [
    {
     "data": {
      "image/png": "[encoded data removed]",
      "text/plain": [
       "<Figure size 432x288 with 1 Axes>"
      ]
     },
     "metadata": {
      "needs_background": "light"
     },
     "output_type": "display_data"
    }
   ],
   "source": [
    "x, y = draw(month_lifts, month_rules)\n",
    "plt.title('related_same_month_bradnd')\n",
    "plt.xlabel('lift') \n",
    "plt.ylabel('support')  \n",
    "plt.scatter(x, y)\n",
    "plt.show()"
   ]
  },
  {
   "cell_type": "markdown",
   "metadata": {},
   "source": [
    "## 网络关系图\n",
    "支持度越大，节点越大。"
   ]
  },
  {
   "cell_type": "code",
   "execution_count": 121,
   "metadata": {},
   "outputs": [
    {
     "data": {
      "image/png": "[encoded data removed]",
      "text/plain": [
       "<Figure size 576x576 with 1 Axes>"
      ]
     },
     "metadata": {},
     "output_type": "display_data"
    }
   ],
   "source": [
    "import networkx as nx \n",
    "plt.figure(figsize=(8, 8))\n",
    "G = nx.DiGraph()  #创建空的网络图\n",
    "node_size = []\n",
    "for node in month_L[0]:\n",
    "    node_size.append(int(month_suppData[node]*10000))\n",
    "    n = list(set(node))\n",
    "    G.add_node(n[0])  # 添加点  \n",
    "for nodes in month_L[1]:\n",
    "    n = list(set(nodes))\n",
    "    a, b = n[0], n[1]\n",
    "    G.add_edge(a, b)\n",
    "pos = nx.shell_layout(G)\n",
    "nx.draw(G, pos, node_color='y', with_labels = True, node_size=node_size)\n",
    "plt.show()"
   ]
  }
 ],
 "metadata": {
  "kernelspec": {
   "display_name": "Python 3",
   "language": "python",
   "name": "python3"
  },
  "language_info": {
   "codemirror_mode": {
    "name": "ipython",
    "version": 3
   },
   "file_extension": ".py",
   "mimetype": "text/x-python",
   "name": "python",
   "nbconvert_exporter": "python",
   "pygments_lexer": "ipython3",
   "version": "3.6.8"
  },
  "toc": {
   "base_numbering": 1,
   "nav_menu": {},
   "number_sections": true,
   "sideBar": true,
   "skip_h1_title": false,
   "title_cell": "Table of Contents",
   "title_sidebar": "Contents",
   "toc_cell": false,
   "toc_position": {
    "height": "calc(100% - 180px)",
    "left": "10px",
    "top": "150px",
    "width": "183.452px"
   },
   "toc_section_display": true,
   "toc_window_display": true
  }
 },
 "nbformat": 4,
 "nbformat_minor": 4
}
